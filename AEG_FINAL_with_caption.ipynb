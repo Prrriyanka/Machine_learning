{
  "nbformat": 4,
  "nbformat_minor": 0,
  "metadata": {
    "colab": {
      "name": "AEG_FINAL with caption ",
      "provenance": [],
      "collapsed_sections": []
    },
    "kernelspec": {
      "display_name": "Python 3",
      "language": "python",
      "name": "python3"
    },
    "language_info": {
      "codemirror_mode": {
        "name": "ipython",
        "version": 3
      },
      "file_extension": ".py",
      "mimetype": "text/x-python",
      "name": "python",
      "nbconvert_exporter": "python",
      "pygments_lexer": "ipython3",
      "version": "3.7.3"
    }
  },
  "cells": [
    {
      "cell_type": "code",
      "metadata": {
        "_cell_guid": "79c7e3d0-c299-4dcb-8224-4455121ee9b0",
        "_uuid": "d629ff2d2480ee46fbb7e2d37f6b5fab8052498a",
        "colab_type": "code",
        "id": "UukED6TC_PX4",
        "colab": {}
      },
      "source": [
        "%tensorflow_version 1.x\n",
        "import pandas as pd\n",
        "import numpy as np\n",
        "import matplotlib.pyplot as plt\n",
        "import seaborn as sns\n",
        "from sklearn.model_selection import train_test_split\n",
        "from sklearn.preprocessing import LabelEncoder\n",
        "from keras.models import Model\n",
        "from keras.layers import LSTM, Activation, Dense, Dropout, Input, Embedding,Bidirectional,BatchNormalization\n",
        "from keras.optimizers import RMSprop\n",
        "from keras.preprocessing.text import Tokenizer\n",
        "from keras.preprocessing import sequence\n",
        "from keras.utils import to_categorical\n",
        "from keras.callbacks import EarlyStopping\n",
        "from keras.utils import  to_categorical\n",
        "%matplotlib inline"
      ],
      "execution_count": null,
      "outputs": []
    },
    {
      "cell_type": "code",
      "metadata": {
        "colab_type": "code",
        "id": "haFhO2-Q_PYF",
        "colab": {
          "base_uri": "https://localhost:8080/",
          "height": 141
        },
        "outputId": "14074605-d4a3-47e3-e390-629c2c44ac28"
      },
      "source": [
        "from nltk.tokenize import word_tokenize \n",
        "from nltk.stem import WordNetLemmatizer\n",
        "lemmatizer = WordNetLemmatizer() \n",
        "import re\n",
        "import nltk\n",
        "nltk.download('stopwords')\n",
        "nltk.download('punkt')\n",
        "nltk.download('wordnet')"
      ],
      "execution_count": null,
      "outputs": [
        {
          "output_type": "stream",
          "text": [
            "[nltk_data] Downloading package stopwords to /root/nltk_data...\n",
            "[nltk_data]   Package stopwords is already up-to-date!\n",
            "[nltk_data] Downloading package punkt to /root/nltk_data...\n",
            "[nltk_data]   Package punkt is already up-to-date!\n",
            "[nltk_data] Downloading package wordnet to /root/nltk_data...\n",
            "[nltk_data]   Package wordnet is already up-to-date!\n"
          ],
          "name": "stdout"
        },
        {
          "output_type": "execute_result",
          "data": {
            "text/plain": [
              "True"
            ]
          },
          "metadata": {
            "tags": []
          },
          "execution_count": 26
        }
      ]
    },
    {
      "cell_type": "code",
      "metadata": {
        "colab_type": "code",
        "id": "qcaHyS8j_PYQ",
        "colab": {}
      },
      "source": [
        "stopwords = nltk.corpus.stopwords.words('english')"
      ],
      "execution_count": null,
      "outputs": []
    },
    {
      "cell_type": "code",
      "metadata": {
        "colab_type": "code",
        "id": "qHy9K8cz_PYZ",
        "colab": {}
      },
      "source": [
        "def clean_text(text):\n",
        "    \n",
        "    text=re.sub(r\"[^a-zA-Z]\",\" \",text)\n",
        "    text=text.lower()\n",
        "    #text=re.sub(r\"[0-9]\",\"\",text)\n",
        "    text=re.sub(r\"i'm\",\"i am\",text)\n",
        "    text=re.sub(r\"he's\",\"he is\",text)\n",
        "    text=re.sub(r\"she's\",\"she is\",text)\n",
        "    text=re.sub(r\"that's\",\"that is\",text)\n",
        "    text=re.sub(r\"what's\",\"what is\",text)\n",
        "    text=re.sub(r\"where's\",\"where is\",text)\n",
        "    text=re.sub(r\"\\'ll\",\" will\",text)\n",
        "    text=re.sub(r\"\\'ve\",\" have\",text)\n",
        "    text=re.sub(r\"\\'re\",\" are\",text)\n",
        "    text=re.sub(r\"\\'d\",\" would\",text)\n",
        "    text=re.sub(r\"won't\",\"will not\",text)\n",
        "    text=re.sub(r\"can't\",\"cannot\",text)\n",
        "    text=re.sub(r\"[-()\\\"#/@;:<>{}+=~|.?,]\",\"\",text)\n",
        "    word_tokens = word_tokenize(text)\n",
        "    filtered_sentence = [lemmatizer.lemmatize(w) for w in word_tokens if w not in stopwords]\n",
        "    text=\" \".join(filtered_sentence)\n",
        "    return text\n",
        "f = \"The computer runs on a three-step cycle namely input, process, and output. Also, the computer follows this cycle in every process it was asked to do. In simple words, the process can be explained in this way. The data which we feed into the computer is input, the work CPU do is process and the result which the computer give is output.The simple computer basically consists of CPU, monitor, mouse, and keyboard. Also, there are hundreds of other computer parts that can be attached to it. These other \""
      ],
      "execution_count": null,
      "outputs": []
    },
    {
      "cell_type": "markdown",
      "metadata": {
        "id": "42SE-XkuMw0i",
        "colab_type": "text"
      },
      "source": [
        "# **Pre-Processing**\n",
        "This is the first and vey important step of the algorithm and it does the preprocessing of the data. It converts I'am to I am ,Don't to Do not and so on."
      ]
    },
    {
      "cell_type": "code",
      "metadata": {
        "colab_type": "code",
        "id": "VgcT_AUK_PYj",
        "colab": {}
      },
      "source": [
        "url='https://raw.githubusercontent.com/Prrriyanka/automatedessaygrading/master/actual%20dataset.csv'\n",
        "testurl = \"https://raw.githubusercontent.com/Nehaaamishra/dv/master/Untitled%20spreadsheet%20-%20Sheet1.csv\"\n",
        "train = pd.read_csv(url)\n"
      ],
      "execution_count": null,
      "outputs": []
    },
    {
      "cell_type": "code",
      "metadata": {
        "colab_type": "code",
        "id": "FJpfrMWf_PYs",
        "colab": {
          "base_uri": "https://localhost:8080/",
          "height": 200
        },
        "outputId": "13e0d7c6-9842-4c8c-80bc-1e8e58a8cbbc"
      },
      "source": [
        "train.head()"
      ],
      "execution_count": null,
      "outputs": [
        {
          "output_type": "execute_result",
          "data": {
            "text/html": [
              "<div>\n",
              "<style scoped>\n",
              "    .dataframe tbody tr th:only-of-type {\n",
              "        vertical-align: middle;\n",
              "    }\n",
              "\n",
              "    .dataframe tbody tr th {\n",
              "        vertical-align: top;\n",
              "    }\n",
              "\n",
              "    .dataframe thead th {\n",
              "        text-align: right;\n",
              "    }\n",
              "</style>\n",
              "<table border=\"1\" class=\"dataframe\">\n",
              "  <thead>\n",
              "    <tr style=\"text-align: right;\">\n",
              "      <th></th>\n",
              "      <th>ID</th>\n",
              "      <th>Essayset</th>\n",
              "      <th>min_score</th>\n",
              "      <th>max_score</th>\n",
              "      <th>score_1</th>\n",
              "      <th>score_2</th>\n",
              "      <th>score_3</th>\n",
              "      <th>score_4</th>\n",
              "      <th>score_5</th>\n",
              "      <th>clarity</th>\n",
              "      <th>coherent</th>\n",
              "      <th>EssayText</th>\n",
              "    </tr>\n",
              "  </thead>\n",
              "  <tbody>\n",
              "    <tr>\n",
              "      <th>0</th>\n",
              "      <td>1</td>\n",
              "      <td>1.0</td>\n",
              "      <td>0</td>\n",
              "      <td>3</td>\n",
              "      <td>1</td>\n",
              "      <td>1</td>\n",
              "      <td>1.0</td>\n",
              "      <td>1.0</td>\n",
              "      <td>1.0</td>\n",
              "      <td>average</td>\n",
              "      <td>worst</td>\n",
              "      <td>additional information would need replicate ex...</td>\n",
              "    </tr>\n",
              "    <tr>\n",
              "      <th>1</th>\n",
              "      <td>3</td>\n",
              "      <td>1.0</td>\n",
              "      <td>0</td>\n",
              "      <td>3</td>\n",
              "      <td>1</td>\n",
              "      <td>1</td>\n",
              "      <td>1.0</td>\n",
              "      <td>1.0</td>\n",
              "      <td>1.5</td>\n",
              "      <td>worst</td>\n",
              "      <td>above_average</td>\n",
              "      <td>need trial control set exact amount vinegar po...</td>\n",
              "    </tr>\n",
              "    <tr>\n",
              "      <th>2</th>\n",
              "      <td>4</td>\n",
              "      <td>1.0</td>\n",
              "      <td>0</td>\n",
              "      <td>3</td>\n",
              "      <td>0</td>\n",
              "      <td>0</td>\n",
              "      <td>0.0</td>\n",
              "      <td>0.0</td>\n",
              "      <td>1.0</td>\n",
              "      <td>worst</td>\n",
              "      <td>worst</td>\n",
              "      <td>student list rock better rock worse procedure</td>\n",
              "    </tr>\n",
              "    <tr>\n",
              "      <th>3</th>\n",
              "      <td>5</td>\n",
              "      <td>1.0</td>\n",
              "      <td>0</td>\n",
              "      <td>3</td>\n",
              "      <td>2</td>\n",
              "      <td>2</td>\n",
              "      <td>2.0</td>\n",
              "      <td>2.5</td>\n",
              "      <td>1.0</td>\n",
              "      <td>above_average</td>\n",
              "      <td>worst</td>\n",
              "      <td>student able make replicate would need tell us...</td>\n",
              "    </tr>\n",
              "    <tr>\n",
              "      <th>4</th>\n",
              "      <td>6</td>\n",
              "      <td>1.0</td>\n",
              "      <td>0</td>\n",
              "      <td>3</td>\n",
              "      <td>1</td>\n",
              "      <td>0</td>\n",
              "      <td>0.0</td>\n",
              "      <td>0.0</td>\n",
              "      <td>0.0</td>\n",
              "      <td>worst</td>\n",
              "      <td>worst</td>\n",
              "      <td>would need information would let different sam...</td>\n",
              "    </tr>\n",
              "  </tbody>\n",
              "</table>\n",
              "</div>"
            ],
            "text/plain": [
              "   ID  ...                                          EssayText\n",
              "0   1  ...  additional information would need replicate ex...\n",
              "1   3  ...  need trial control set exact amount vinegar po...\n",
              "2   4  ...      student list rock better rock worse procedure\n",
              "3   5  ...  student able make replicate would need tell us...\n",
              "4   6  ...  would need information would let different sam...\n",
              "\n",
              "[5 rows x 12 columns]"
            ]
          },
          "metadata": {
            "tags": []
          },
          "execution_count": 30
        }
      ]
    },
    {
      "cell_type": "markdown",
      "metadata": {
        "id": "EYUZWkP7NbCG",
        "colab_type": "text"
      },
      "source": [
        "Th dataset is loaded into the system!"
      ]
    },
    {
      "cell_type": "code",
      "metadata": {
        "colab_type": "code",
        "id": "G6WCWJe5_PYz",
        "colab": {}
      },
      "source": [
        "train['avg_score']=np.round((train.score_1+train.score_2+train.score_3)/3)"
      ],
      "execution_count": null,
      "outputs": []
    },
    {
      "cell_type": "markdown",
      "metadata": {
        "id": "TYpu_uMeNf8D",
        "colab_type": "text"
      },
      "source": [
        "We take average of the 4 human graded scores ad put it into the system to train"
      ]
    },
    {
      "cell_type": "code",
      "metadata": {
        "colab_type": "code",
        "id": "Z-lazZLP_PZO",
        "colab": {}
      },
      "source": [
        "train2=train.drop(columns=['ID','Essayset','min_score','max_score','clarity','coherent'])"
      ],
      "execution_count": null,
      "outputs": []
    },
    {
      "cell_type": "code",
      "metadata": {
        "colab_type": "code",
        "id": "csAzw_8b_PY9",
        "colab": {}
      },
      "source": [
        "train.drop(columns=['score_1','score_2','score_3','score_4','score_5'],inplace=True)"
      ],
      "execution_count": null,
      "outputs": []
    },
    {
      "cell_type": "code",
      "metadata": {
        "colab_type": "code",
        "id": "580Y8n5o_PZE",
        "colab": {
          "base_uri": "https://localhost:8080/",
          "height": 200
        },
        "outputId": "e0263bb0-56af-4fed-b12e-13ea16ec3bdc"
      },
      "source": [
        "train.head()"
      ],
      "execution_count": null,
      "outputs": [
        {
          "output_type": "execute_result",
          "data": {
            "text/html": [
              "<div>\n",
              "<style scoped>\n",
              "    .dataframe tbody tr th:only-of-type {\n",
              "        vertical-align: middle;\n",
              "    }\n",
              "\n",
              "    .dataframe tbody tr th {\n",
              "        vertical-align: top;\n",
              "    }\n",
              "\n",
              "    .dataframe thead th {\n",
              "        text-align: right;\n",
              "    }\n",
              "</style>\n",
              "<table border=\"1\" class=\"dataframe\">\n",
              "  <thead>\n",
              "    <tr style=\"text-align: right;\">\n",
              "      <th></th>\n",
              "      <th>ID</th>\n",
              "      <th>Essayset</th>\n",
              "      <th>min_score</th>\n",
              "      <th>max_score</th>\n",
              "      <th>clarity</th>\n",
              "      <th>coherent</th>\n",
              "      <th>EssayText</th>\n",
              "      <th>avg_score</th>\n",
              "    </tr>\n",
              "  </thead>\n",
              "  <tbody>\n",
              "    <tr>\n",
              "      <th>0</th>\n",
              "      <td>1</td>\n",
              "      <td>1.0</td>\n",
              "      <td>0</td>\n",
              "      <td>3</td>\n",
              "      <td>average</td>\n",
              "      <td>worst</td>\n",
              "      <td>additional information would need replicate ex...</td>\n",
              "      <td>1.0</td>\n",
              "    </tr>\n",
              "    <tr>\n",
              "      <th>1</th>\n",
              "      <td>3</td>\n",
              "      <td>1.0</td>\n",
              "      <td>0</td>\n",
              "      <td>3</td>\n",
              "      <td>worst</td>\n",
              "      <td>above_average</td>\n",
              "      <td>need trial control set exact amount vinegar po...</td>\n",
              "      <td>1.0</td>\n",
              "    </tr>\n",
              "    <tr>\n",
              "      <th>2</th>\n",
              "      <td>4</td>\n",
              "      <td>1.0</td>\n",
              "      <td>0</td>\n",
              "      <td>3</td>\n",
              "      <td>worst</td>\n",
              "      <td>worst</td>\n",
              "      <td>student list rock better rock worse procedure</td>\n",
              "      <td>0.0</td>\n",
              "    </tr>\n",
              "    <tr>\n",
              "      <th>3</th>\n",
              "      <td>5</td>\n",
              "      <td>1.0</td>\n",
              "      <td>0</td>\n",
              "      <td>3</td>\n",
              "      <td>above_average</td>\n",
              "      <td>worst</td>\n",
              "      <td>student able make replicate would need tell us...</td>\n",
              "      <td>2.0</td>\n",
              "    </tr>\n",
              "    <tr>\n",
              "      <th>4</th>\n",
              "      <td>6</td>\n",
              "      <td>1.0</td>\n",
              "      <td>0</td>\n",
              "      <td>3</td>\n",
              "      <td>worst</td>\n",
              "      <td>worst</td>\n",
              "      <td>would need information would let different sam...</td>\n",
              "      <td>0.0</td>\n",
              "    </tr>\n",
              "  </tbody>\n",
              "</table>\n",
              "</div>"
            ],
            "text/plain": [
              "   ID  Essayset  ...                                          EssayText  avg_score\n",
              "0   1       1.0  ...  additional information would need replicate ex...        1.0\n",
              "1   3       1.0  ...  need trial control set exact amount vinegar po...        1.0\n",
              "2   4       1.0  ...      student list rock better rock worse procedure        0.0\n",
              "3   5       1.0  ...  student able make replicate would need tell us...        2.0\n",
              "4   6       1.0  ...  would need information would let different sam...        0.0\n",
              "\n",
              "[5 rows x 8 columns]"
            ]
          },
          "metadata": {
            "tags": []
          },
          "execution_count": 34
        }
      ]
    },
    {
      "cell_type": "code",
      "metadata": {
        "colab_type": "code",
        "id": "enxdxbEP_PZW",
        "colab": {
          "base_uri": "https://localhost:8080/",
          "height": 200
        },
        "outputId": "e1bc7b52-7d69-4afa-f0ce-89926e3dd8a3"
      },
      "source": [
        "train2.head()"
      ],
      "execution_count": null,
      "outputs": [
        {
          "output_type": "execute_result",
          "data": {
            "text/html": [
              "<div>\n",
              "<style scoped>\n",
              "    .dataframe tbody tr th:only-of-type {\n",
              "        vertical-align: middle;\n",
              "    }\n",
              "\n",
              "    .dataframe tbody tr th {\n",
              "        vertical-align: top;\n",
              "    }\n",
              "\n",
              "    .dataframe thead th {\n",
              "        text-align: right;\n",
              "    }\n",
              "</style>\n",
              "<table border=\"1\" class=\"dataframe\">\n",
              "  <thead>\n",
              "    <tr style=\"text-align: right;\">\n",
              "      <th></th>\n",
              "      <th>score_1</th>\n",
              "      <th>score_2</th>\n",
              "      <th>score_3</th>\n",
              "      <th>score_4</th>\n",
              "      <th>score_5</th>\n",
              "      <th>EssayText</th>\n",
              "      <th>avg_score</th>\n",
              "    </tr>\n",
              "  </thead>\n",
              "  <tbody>\n",
              "    <tr>\n",
              "      <th>0</th>\n",
              "      <td>1</td>\n",
              "      <td>1</td>\n",
              "      <td>1.0</td>\n",
              "      <td>1.0</td>\n",
              "      <td>1.0</td>\n",
              "      <td>additional information would need replicate ex...</td>\n",
              "      <td>1.0</td>\n",
              "    </tr>\n",
              "    <tr>\n",
              "      <th>1</th>\n",
              "      <td>1</td>\n",
              "      <td>1</td>\n",
              "      <td>1.0</td>\n",
              "      <td>1.0</td>\n",
              "      <td>1.5</td>\n",
              "      <td>need trial control set exact amount vinegar po...</td>\n",
              "      <td>1.0</td>\n",
              "    </tr>\n",
              "    <tr>\n",
              "      <th>2</th>\n",
              "      <td>0</td>\n",
              "      <td>0</td>\n",
              "      <td>0.0</td>\n",
              "      <td>0.0</td>\n",
              "      <td>1.0</td>\n",
              "      <td>student list rock better rock worse procedure</td>\n",
              "      <td>0.0</td>\n",
              "    </tr>\n",
              "    <tr>\n",
              "      <th>3</th>\n",
              "      <td>2</td>\n",
              "      <td>2</td>\n",
              "      <td>2.0</td>\n",
              "      <td>2.5</td>\n",
              "      <td>1.0</td>\n",
              "      <td>student able make replicate would need tell us...</td>\n",
              "      <td>2.0</td>\n",
              "    </tr>\n",
              "    <tr>\n",
              "      <th>4</th>\n",
              "      <td>1</td>\n",
              "      <td>0</td>\n",
              "      <td>0.0</td>\n",
              "      <td>0.0</td>\n",
              "      <td>0.0</td>\n",
              "      <td>would need information would let different sam...</td>\n",
              "      <td>0.0</td>\n",
              "    </tr>\n",
              "  </tbody>\n",
              "</table>\n",
              "</div>"
            ],
            "text/plain": [
              "   score_1  ...  avg_score\n",
              "0        1  ...        1.0\n",
              "1        1  ...        1.0\n",
              "2        0  ...        0.0\n",
              "3        2  ...        2.0\n",
              "4        1  ...        0.0\n",
              "\n",
              "[5 rows x 7 columns]"
            ]
          },
          "metadata": {
            "tags": []
          },
          "execution_count": 35
        }
      ]
    },
    {
      "cell_type": "code",
      "metadata": {
        "colab_type": "code",
        "id": "NVW90UXi_PZe",
        "colab": {
          "base_uri": "https://localhost:8080/",
          "height": 141
        },
        "outputId": "1a7d64c5-4888-4c53-fc1c-76360b623cc9"
      },
      "source": [
        "max_words = 2500\n",
        "max_len = 50\n",
        "tok = Tokenizer(num_words=max_words)\n",
        "tok.fit_on_texts(train2.EssayText)\n",
        "sequences = tok.texts_to_sequences(train2.EssayText)\n",
        "sequences_matrix = sequence.pad_sequences(sequences,maxlen=max_len)\n",
        "print(sequences_matrix)\n",
        "Y1=train2.avg_score"
      ],
      "execution_count": null,
      "outputs": [
        {
          "output_type": "stream",
          "text": [
            "[[   0    0    0 ...   26  415   52]\n",
            " [   0    0    0 ...  439  785  316]\n",
            " [   0    0    0 ...  734 1756  121]\n",
            " ...\n",
            " [   0    0    0 ...  267  181  130]\n",
            " [   0    0    0 ...  267   65   58]\n",
            " [   0    0    0 ...  399   43   82]]\n"
          ],
          "name": "stdout"
        }
      ]
    },
    {
      "cell_type": "markdown",
      "metadata": {
        "id": "p2MmoYYrNqIS",
        "colab_type": "text"
      },
      "source": [
        "# Tokenization and Stemming\n",
        "we have defined maximum length as 2500 i.e. system can take essays wih input upto 2500 words.\n",
        "In this section we try to divide the whole essay into tokens. After generating the tokens A matrx known as sequence matrix is generated to be fed in the model.\n",
        "\n"
      ]
    },
    {
      "cell_type": "code",
      "metadata": {
        "colab_type": "code",
        "id": "ZOu22qeG_PZl",
        "colab": {}
      },
      "source": [
        "X_train,X_test,Y_train,Y_test = train_test_split(sequences_matrix,to_categorical(Y1),test_size=0.20)\n"
      ],
      "execution_count": null,
      "outputs": []
    },
    {
      "cell_type": "markdown",
      "metadata": {
        "id": "RESyZumzOiNm",
        "colab_type": "text"
      },
      "source": [
        "#Splitting the data\n",
        "Here, we split the data into training part and testing part. test_size is 0.2 which deites that 20% of data will be used to test the accuracy of the model.\n",
        "\n",
        "Now , in the training part we put the tokenized matrix on x axis and on y axis we put the average score. italicized text"
      ]
    },
    {
      "cell_type": "code",
      "metadata": {
        "colab_type": "code",
        "id": "QNpK0mLu_PZr",
        "colab": {}
      },
      "source": [
        "def RNN():\n",
        "    inputs = Input(name='inputs',shape=[max_len])\n",
        "    layer = Embedding(max_words,50,input_length=max_len)(inputs)\n",
        "    layer = Bidirectional(LSTM(64))(layer)\n",
        "    #layer = Bidirectional(LSTM(128))(layer)\n",
        "    layer = Dense(64,name='FC1')(layer)\n",
        "    #layer=BatchNormalization()(layer)\n",
        "    layer = Activation('relu')(layer)\n",
        "    layer = Dropout(0.5)(layer)\n",
        "    layer = Dense(64,name='FC2')(layer)\n",
        "    #layer=BatchNormalization()(layer)\n",
        "    layer = Activation('relu')(layer)\n",
        "    layer = Dropout(0.5)(layer)\n",
        "    layer = Dense(4,name='out_layer')(layer)\n",
        "    layer = Activation('softmax')(layer)\n",
        "    model = Model(inputs=inputs,outputs=layer)\n",
        "    return model"
      ],
      "execution_count": null,
      "outputs": []
    },
    {
      "cell_type": "markdown",
      "metadata": {
        "id": "YyoPuvPwUrQR",
        "colab_type": "text"
      },
      "source": [
        " #RNN Explaination \n",
        " a recurrent neural network (RNN) is a class of artificial neural network where connections between units form a directed graph along a sequence. This allows it to exhibit dynamic temporal behavior for a time sequence. Unlike feedforward neural networks, RNNs can use their internal state (memory) to process sequences of inputs. This makes them applicable to tasks such as unsegmented, connected handwriting recognition or speech recognition.\n",
        "Recurrent Neural Network comes into the picture when any model needs context to be able to provide the output based on the input.\n",
        "Sometimes the context is the single most important thing for the model to predict the most appropriate output.\n",
        "Let’s understand this by an analogy. Suppose you are watching a movie, you keep watching the movie as at any point in time, you have the context because you have seen the movie until that point, then only you are able to relate everything correctly. It means that you remember everything that you have watched.\n",
        "Similarly, RNN remembers everything. In other neural networks, all the inputs are independent of each other. But in RNN, all the inputs are related to each other. Let’s say you have to predict the next word in a given sentence, in that case, the relation among all the previous words helps in predicting the better output. The RNN remembers all these relations while training itself.\n",
        "In order to achieve it, the RNN creates the networks with loops in them, which allows it to persist the information."
      ]
    },
    {
      "cell_type": "markdown",
      "metadata": {
        "id": "bf4BHfTmP6op",
        "colab_type": "text"
      },
      "source": [
        "#Model Defining and Reshaping\n",
        "\n",
        "Here We have created the model \n",
        "Calculate the loss using categorical loss entropy function \n",
        "used RMSprop optimizer to reduce the loss and train our rnn for 2 epochs"
      ]
    },
    {
      "cell_type": "code",
      "metadata": {
        "colab_type": "code",
        "id": "H3au70Tl_PZy",
        "colab": {
          "base_uri": "https://localhost:8080/",
          "height": 124
        },
        "outputId": "8b24efdf-3b25-468e-f103-a90efbb6e536"
      },
      "source": [
        "model = RNN()\n",
        "model.compile(loss='categorical_crossentropy',optimizer=RMSprop(),metrics=['accuracy'])\n",
        "\n",
        "model.fit(X_train,Y_train,batch_size=64,epochs=2,validation_data=(X_test,Y_test))\n"
      ],
      "execution_count": null,
      "outputs": [
        {
          "output_type": "stream",
          "text": [
            "Train on 12937 samples, validate on 3235 samples\n",
            "Epoch 1/2\n",
            "12937/12937 [==============================] - 18s 1ms/step - loss: 0.9917 - accuracy: 0.5443 - val_loss: 0.8782 - val_accuracy: 0.6046\n",
            "Epoch 2/2\n",
            "12937/12937 [==============================] - 17s 1ms/step - loss: 0.7985 - accuracy: 0.6621 - val_loss: 0.8137 - val_accuracy: 0.6485\n"
          ],
          "name": "stdout"
        },
        {
          "output_type": "execute_result",
          "data": {
            "text/plain": [
              "<keras.callbacks.callbacks.History at 0x7ff3e5d40ba8>"
            ]
          },
          "metadata": {
            "tags": []
          },
          "execution_count": 39
        }
      ]
    },
    {
      "cell_type": "markdown",
      "metadata": {
        "id": "jg4lGTVuU6Ua",
        "colab_type": "text"
      },
      "source": [
        "#Categorical Cross Entropy\n",
        "\n",
        "Categorical crossentropy is a loss function that is used for single label categorization. This is when only one category is applicable for each data point. In other words, an example can belong to one class only. The block before the Target block must use the activation function ​Softmax.\n"
      ]
    },
    {
      "cell_type": "code",
      "metadata": {
        "colab_type": "code",
        "id": "wHuOVdZc_PZ3",
        "colab": {}
      },
      "source": [
        "y_pred_train=model.predict(sequences_matrix)"
      ],
      "execution_count": null,
      "outputs": []
    },
    {
      "cell_type": "code",
      "metadata": {
        "colab_type": "code",
        "id": "BLpJ3zne_PZ8",
        "colab": {}
      },
      "source": [
        "tt1=pd.DataFrame(y_pred_train,columns=['out1','out2','out3','out4'])\n",
        "train3=train.drop(columns=['ID','min_score','max_score','EssayText'])"
      ],
      "execution_count": null,
      "outputs": []
    },
    {
      "cell_type": "code",
      "metadata": {
        "id": "8zrn9U13Tbmg",
        "colab_type": "code",
        "colab": {}
      },
      "source": [
        "train4=pd.concat([train3,tt1],axis=1)"
      ],
      "execution_count": null,
      "outputs": []
    },
    {
      "cell_type": "code",
      "metadata": {
        "colab_type": "code",
        "id": "5DNB_bY8_PaV",
        "colab": {
          "base_uri": "https://localhost:8080/",
          "height": 200
        },
        "outputId": "26be207e-b042-4011-d8cf-9c0aa99a63fb"
      },
      "source": [
        "train4.head()"
      ],
      "execution_count": null,
      "outputs": [
        {
          "output_type": "execute_result",
          "data": {
            "text/html": [
              "<div>\n",
              "<style scoped>\n",
              "    .dataframe tbody tr th:only-of-type {\n",
              "        vertical-align: middle;\n",
              "    }\n",
              "\n",
              "    .dataframe tbody tr th {\n",
              "        vertical-align: top;\n",
              "    }\n",
              "\n",
              "    .dataframe thead th {\n",
              "        text-align: right;\n",
              "    }\n",
              "</style>\n",
              "<table border=\"1\" class=\"dataframe\">\n",
              "  <thead>\n",
              "    <tr style=\"text-align: right;\">\n",
              "      <th></th>\n",
              "      <th>Essayset</th>\n",
              "      <th>clarity</th>\n",
              "      <th>coherent</th>\n",
              "      <th>avg_score</th>\n",
              "      <th>out1</th>\n",
              "      <th>out2</th>\n",
              "      <th>out3</th>\n",
              "      <th>out4</th>\n",
              "    </tr>\n",
              "  </thead>\n",
              "  <tbody>\n",
              "    <tr>\n",
              "      <th>0</th>\n",
              "      <td>1.0</td>\n",
              "      <td>average</td>\n",
              "      <td>worst</td>\n",
              "      <td>1.0</td>\n",
              "      <td>0.111142</td>\n",
              "      <td>0.251085</td>\n",
              "      <td>0.432755</td>\n",
              "      <td>0.205018</td>\n",
              "    </tr>\n",
              "    <tr>\n",
              "      <th>1</th>\n",
              "      <td>1.0</td>\n",
              "      <td>worst</td>\n",
              "      <td>above_average</td>\n",
              "      <td>1.0</td>\n",
              "      <td>0.488291</td>\n",
              "      <td>0.272394</td>\n",
              "      <td>0.181598</td>\n",
              "      <td>0.057717</td>\n",
              "    </tr>\n",
              "    <tr>\n",
              "      <th>2</th>\n",
              "      <td>1.0</td>\n",
              "      <td>worst</td>\n",
              "      <td>worst</td>\n",
              "      <td>0.0</td>\n",
              "      <td>0.801796</td>\n",
              "      <td>0.153187</td>\n",
              "      <td>0.040624</td>\n",
              "      <td>0.004392</td>\n",
              "    </tr>\n",
              "    <tr>\n",
              "      <th>3</th>\n",
              "      <td>1.0</td>\n",
              "      <td>above_average</td>\n",
              "      <td>worst</td>\n",
              "      <td>2.0</td>\n",
              "      <td>0.123881</td>\n",
              "      <td>0.276969</td>\n",
              "      <td>0.431927</td>\n",
              "      <td>0.167223</td>\n",
              "    </tr>\n",
              "    <tr>\n",
              "      <th>4</th>\n",
              "      <td>1.0</td>\n",
              "      <td>worst</td>\n",
              "      <td>worst</td>\n",
              "      <td>0.0</td>\n",
              "      <td>0.724592</td>\n",
              "      <td>0.173911</td>\n",
              "      <td>0.084627</td>\n",
              "      <td>0.016870</td>\n",
              "    </tr>\n",
              "  </tbody>\n",
              "</table>\n",
              "</div>"
            ],
            "text/plain": [
              "   Essayset        clarity       coherent  ...      out2      out3      out4\n",
              "0       1.0        average          worst  ...  0.251085  0.432755  0.205018\n",
              "1       1.0          worst  above_average  ...  0.272394  0.181598  0.057717\n",
              "2       1.0          worst          worst  ...  0.153187  0.040624  0.004392\n",
              "3       1.0  above_average          worst  ...  0.276969  0.431927  0.167223\n",
              "4       1.0          worst          worst  ...  0.173911  0.084627  0.016870\n",
              "\n",
              "[5 rows x 8 columns]"
            ]
          },
          "metadata": {
            "tags": []
          },
          "execution_count": 45
        }
      ]
    },
    {
      "cell_type": "markdown",
      "metadata": {
        "id": "O6z9JaHWVI-8",
        "colab_type": "text"
      },
      "source": [
        "As you can see there are 4 outputs Out1 , Out2, Out3 and Out4 which indicate probability of each score.\n",
        "\n",
        "> Indented block\n",
        "\n",
        "1.   List item\n",
        "\n",
        "1.   List item\n",
        "\n",
        "1.   List item\n",
        "\n",
        "1.   List item\n",
        "2.   List item\n",
        "\n",
        "\n",
        "2.   List item\n",
        "\n",
        "\n",
        "2.   List item\n",
        "\n",
        "\n",
        "2.   List item\n",
        "\n",
        "\n",
        "\n"
      ]
    },
    {
      "cell_type": "markdown",
      "metadata": {
        "id": "988f0ORpYxHZ",
        "colab_type": "text"
      },
      "source": [
        "Category encoders are used to convert the categorical\n",
        "value of clarity and coherence columns into numeric value\n",
        "which fits into the model."
      ]
    },
    {
      "cell_type": "code",
      "metadata": {
        "colab_type": "code",
        "id": "8V-xW0id_Pab",
        "colab": {
          "base_uri": "https://localhost:8080/",
          "height": 304
        },
        "outputId": "56cc5fd8-2ea5-43f5-bd25-d2d8b4be4a98"
      },
      "source": [
        "!pip install category_encoders\n",
        "import category_encoders as ce\n"
      ],
      "execution_count": null,
      "outputs": [
        {
          "output_type": "stream",
          "text": [
            "Collecting category_encoders\n",
            "\u001b[?25l  Downloading https://files.pythonhosted.org/packages/a0/52/c54191ad3782de633ea3d6ee3bb2837bda0cf3bc97644bb6375cf14150a0/category_encoders-2.1.0-py2.py3-none-any.whl (100kB)\n",
            "\r\u001b[K     |███▎                            | 10kB 18.1MB/s eta 0:00:01\r\u001b[K     |██████▌                         | 20kB 1.8MB/s eta 0:00:01\r\u001b[K     |█████████▉                      | 30kB 2.6MB/s eta 0:00:01\r\u001b[K     |█████████████                   | 40kB 1.7MB/s eta 0:00:01\r\u001b[K     |████████████████▍               | 51kB 2.1MB/s eta 0:00:01\r\u001b[K     |███████████████████▋            | 61kB 2.5MB/s eta 0:00:01\r\u001b[K     |██████████████████████▉         | 71kB 2.9MB/s eta 0:00:01\r\u001b[K     |██████████████████████████▏     | 81kB 2.3MB/s eta 0:00:01\r\u001b[K     |█████████████████████████████▍  | 92kB 2.5MB/s eta 0:00:01\r\u001b[K     |████████████████████████████████| 102kB 2.3MB/s \n",
            "\u001b[?25hRequirement already satisfied: scipy>=0.19.0 in /usr/local/lib/python3.6/dist-packages (from category_encoders) (1.4.1)\n",
            "Requirement already satisfied: numpy>=1.11.3 in /usr/local/lib/python3.6/dist-packages (from category_encoders) (1.18.2)\n",
            "Requirement already satisfied: patsy>=0.4.1 in /usr/local/lib/python3.6/dist-packages (from category_encoders) (0.5.1)\n",
            "Requirement already satisfied: pandas>=0.21.1 in /usr/local/lib/python3.6/dist-packages (from category_encoders) (1.0.3)\n",
            "Requirement already satisfied: statsmodels>=0.6.1 in /usr/local/lib/python3.6/dist-packages (from category_encoders) (0.10.2)\n",
            "Requirement already satisfied: scikit-learn>=0.20.0 in /usr/local/lib/python3.6/dist-packages (from category_encoders) (0.22.2.post1)\n",
            "Requirement already satisfied: six in /usr/local/lib/python3.6/dist-packages (from patsy>=0.4.1->category_encoders) (1.12.0)\n",
            "Requirement already satisfied: python-dateutil>=2.6.1 in /usr/local/lib/python3.6/dist-packages (from pandas>=0.21.1->category_encoders) (2.8.1)\n",
            "Requirement already satisfied: pytz>=2017.2 in /usr/local/lib/python3.6/dist-packages (from pandas>=0.21.1->category_encoders) (2018.9)\n",
            "Requirement already satisfied: joblib>=0.11 in /usr/local/lib/python3.6/dist-packages (from scikit-learn>=0.20.0->category_encoders) (0.14.1)\n",
            "Installing collected packages: category-encoders\n",
            "Successfully installed category-encoders-2.1.0\n"
          ],
          "name": "stdout"
        }
      ]
    },
    {
      "cell_type": "code",
      "metadata": {
        "colab_type": "code",
        "id": "O5zBWaXN_Pah",
        "colab": {}
      },
      "source": [
        "ce1=ce.TargetEncoder(cols = ['Essayset','clarity','coherent'], min_samples_leaf = 20)"
      ],
      "execution_count": null,
      "outputs": []
    },
    {
      "cell_type": "code",
      "metadata": {
        "colab_type": "code",
        "id": "iVeFLq7q_Pam",
        "colab": {}
      },
      "source": [
        "train4.loc[:,['Essayset','clarity','coherent']]=ce1.fit_transform(train4.loc[:,['Essayset','clarity','coherent']],train4.loc[:,['avg_score']])"
      ],
      "execution_count": null,
      "outputs": []
    },
    {
      "cell_type": "code",
      "metadata": {
        "colab_type": "code",
        "id": "r07vTlX7_Par",
        "colab": {
          "base_uri": "https://localhost:8080/",
          "height": 200
        },
        "outputId": "381a4ab2-6cea-43fa-c8b5-02a2aa7a0a1a"
      },
      "source": [
        "train4.head()"
      ],
      "execution_count": null,
      "outputs": [
        {
          "output_type": "execute_result",
          "data": {
            "text/html": [
              "<div>\n",
              "<style scoped>\n",
              "    .dataframe tbody tr th:only-of-type {\n",
              "        vertical-align: middle;\n",
              "    }\n",
              "\n",
              "    .dataframe tbody tr th {\n",
              "        vertical-align: top;\n",
              "    }\n",
              "\n",
              "    .dataframe thead th {\n",
              "        text-align: right;\n",
              "    }\n",
              "</style>\n",
              "<table border=\"1\" class=\"dataframe\">\n",
              "  <thead>\n",
              "    <tr style=\"text-align: right;\">\n",
              "      <th></th>\n",
              "      <th>Essayset</th>\n",
              "      <th>clarity</th>\n",
              "      <th>coherent</th>\n",
              "      <th>avg_score</th>\n",
              "      <th>out1</th>\n",
              "      <th>out2</th>\n",
              "      <th>out3</th>\n",
              "      <th>out4</th>\n",
              "    </tr>\n",
              "  </thead>\n",
              "  <tbody>\n",
              "    <tr>\n",
              "      <th>0</th>\n",
              "      <td>1.480649</td>\n",
              "      <td>0.496662</td>\n",
              "      <td>0.482423</td>\n",
              "      <td>1.0</td>\n",
              "      <td>0.111142</td>\n",
              "      <td>0.251085</td>\n",
              "      <td>0.432755</td>\n",
              "      <td>0.205018</td>\n",
              "    </tr>\n",
              "    <tr>\n",
              "      <th>1</th>\n",
              "      <td>1.480649</td>\n",
              "      <td>0.486640</td>\n",
              "      <td>1.944411</td>\n",
              "      <td>1.0</td>\n",
              "      <td>0.488291</td>\n",
              "      <td>0.272394</td>\n",
              "      <td>0.181598</td>\n",
              "      <td>0.057717</td>\n",
              "    </tr>\n",
              "    <tr>\n",
              "      <th>2</th>\n",
              "      <td>1.480649</td>\n",
              "      <td>0.486640</td>\n",
              "      <td>0.482423</td>\n",
              "      <td>0.0</td>\n",
              "      <td>0.801796</td>\n",
              "      <td>0.153187</td>\n",
              "      <td>0.040624</td>\n",
              "      <td>0.004392</td>\n",
              "    </tr>\n",
              "    <tr>\n",
              "      <th>3</th>\n",
              "      <td>1.480649</td>\n",
              "      <td>1.943451</td>\n",
              "      <td>0.482423</td>\n",
              "      <td>2.0</td>\n",
              "      <td>0.123881</td>\n",
              "      <td>0.276969</td>\n",
              "      <td>0.431927</td>\n",
              "      <td>0.167223</td>\n",
              "    </tr>\n",
              "    <tr>\n",
              "      <th>4</th>\n",
              "      <td>1.480649</td>\n",
              "      <td>0.486640</td>\n",
              "      <td>0.482423</td>\n",
              "      <td>0.0</td>\n",
              "      <td>0.724592</td>\n",
              "      <td>0.173911</td>\n",
              "      <td>0.084627</td>\n",
              "      <td>0.016870</td>\n",
              "    </tr>\n",
              "  </tbody>\n",
              "</table>\n",
              "</div>"
            ],
            "text/plain": [
              "   Essayset   clarity  coherent  ...      out2      out3      out4\n",
              "0  1.480649  0.496662  0.482423  ...  0.251085  0.432755  0.205018\n",
              "1  1.480649  0.486640  1.944411  ...  0.272394  0.181598  0.057717\n",
              "2  1.480649  0.486640  0.482423  ...  0.153187  0.040624  0.004392\n",
              "3  1.480649  1.943451  0.482423  ...  0.276969  0.431927  0.167223\n",
              "4  1.480649  0.486640  0.482423  ...  0.173911  0.084627  0.016870\n",
              "\n",
              "[5 rows x 8 columns]"
            ]
          },
          "metadata": {
            "tags": []
          },
          "execution_count": 49
        }
      ]
    },
    {
      "cell_type": "code",
      "metadata": {
        "colab_type": "code",
        "id": "D2GDEhi5_Pax",
        "colab": {}
      },
      "source": [
        "X1=train4.drop(columns=['avg_score'])\n",
        "Y1=train4.avg_score"
      ],
      "execution_count": null,
      "outputs": []
    },
    {
      "cell_type": "markdown",
      "metadata": {
        "id": "BDhxtaTNaJ7Q",
        "colab_type": "text"
      },
      "source": [
        "eXtreme Gradient Boosting (XGBoost) is used which is a scalable and accurate implementation of gradient boosting machines and it has proven to push the limits of computing power for boosted trees algorithms.\n",
        "\n",
        "\n",
        "\n",
        "\n",
        "\n",
        "\n",
        "\n",
        "\n",
        "\n",
        "\n"
      ]
    },
    {
      "cell_type": "code",
      "metadata": {
        "colab_type": "code",
        "id": "4vARG-Wq_Pa1",
        "colab": {}
      },
      "source": [
        "from xgboost import XGBClassifier\n",
        "xgb=XGBClassifier(colsample_bytree=0.4,\n",
        "                 gamma=0,                 \n",
        "                 learning_rate=0.01,\n",
        "                 max_depth=4,\n",
        "              \n",
        "                 min_child_weight=0.5,\n",
        "                 n_estimators=10000,                                                                    \n",
        "                 reg_alpha=0.75,\n",
        "                 reg_lambda=0.45,\n",
        "                 subsample=0.6,\n",
        "                 seed=42) "
      ],
      "execution_count": null,
      "outputs": []
    },
    {
      "cell_type": "code",
      "metadata": {
        "colab_type": "code",
        "id": "MXaxStbj_Pa4",
        "colab": {}
      },
      "source": [
        "X1_train,X1_test,Y1_train,Y1_test=train_test_split(X1,Y1,test_size=0.2,random_state=123)"
      ],
      "execution_count": null,
      "outputs": []
    },
    {
      "cell_type": "code",
      "metadata": {
        "colab_type": "code",
        "id": "ZZmc6a-z_Pa-",
        "colab": {
          "base_uri": "https://localhost:8080/",
          "height": 141
        },
        "outputId": "9b571076-7b60-44cb-b72b-87b4b6b0ad75"
      },
      "source": [
        "xgb.fit(X1_train,Y1_train)"
      ],
      "execution_count": null,
      "outputs": [
        {
          "output_type": "execute_result",
          "data": {
            "text/plain": [
              "XGBClassifier(base_score=0.5, booster='gbtree', colsample_bylevel=1,\n",
              "              colsample_bynode=1, colsample_bytree=0.4, gamma=0,\n",
              "              learning_rate=0.01, max_delta_step=0, max_depth=4,\n",
              "              min_child_weight=0.5, missing=None, n_estimators=10000, n_jobs=1,\n",
              "              nthread=None, objective='multi:softprob', random_state=0,\n",
              "              reg_alpha=0.75, reg_lambda=0.45, scale_pos_weight=1, seed=42,\n",
              "              silent=None, subsample=0.6, verbosity=1)"
            ]
          },
          "metadata": {
            "tags": []
          },
          "execution_count": 53
        }
      ]
    },
    {
      "cell_type": "code",
      "metadata": {
        "colab_type": "code",
        "id": "-0gB7rxD_PbD",
        "colab": {}
      },
      "source": [
        "yy_test=xgb.predict(X1_test)"
      ],
      "execution_count": null,
      "outputs": []
    },
    {
      "cell_type": "code",
      "metadata": {
        "colab_type": "code",
        "id": "-wUvrjZF_PbH",
        "colab": {}
      },
      "source": [
        "from sklearn.metrics import  accuracy_score,classification_report"
      ],
      "execution_count": null,
      "outputs": []
    },
    {
      "cell_type": "code",
      "metadata": {
        "colab_type": "code",
        "id": "kO0jg_lr_PbM",
        "colab": {
          "base_uri": "https://localhost:8080/",
          "height": 35
        },
        "outputId": "f57d0491-d345-44c0-e263-00ed34c94720"
      },
      "source": [
        "accuracy_score(Y1_test,yy_test)"
      ],
      "execution_count": null,
      "outputs": [
        {
          "output_type": "execute_result",
          "data": {
            "text/plain": [
              "0.7935085007727976"
            ]
          },
          "metadata": {
            "tags": []
          },
          "execution_count": 56
        }
      ]
    },
    {
      "cell_type": "code",
      "metadata": {
        "colab_type": "code",
        "id": "_GRRSZan_PbQ",
        "colab": {
          "base_uri": "https://localhost:8080/",
          "height": 212
        },
        "outputId": "7cd5a4aa-b35a-4244-e091-3ab04dfb32ad"
      },
      "source": [
        "print(classification_report(Y1_test,yy_test))"
      ],
      "execution_count": null,
      "outputs": [
        {
          "output_type": "stream",
          "text": [
            "              precision    recall  f1-score   support\n",
            "\n",
            "         0.0       0.84      0.87      0.86      1309\n",
            "         1.0       0.75      0.71      0.73      1053\n",
            "         2.0       0.80      0.82      0.81       749\n",
            "         3.0       0.56      0.48      0.52       124\n",
            "\n",
            "    accuracy                           0.79      3235\n",
            "   macro avg       0.74      0.72      0.73      3235\n",
            "weighted avg       0.79      0.79      0.79      3235\n",
            "\n"
          ],
          "name": "stdout"
        }
      ]
    },
    {
      "cell_type": "code",
      "metadata": {
        "colab_type": "code",
        "id": "S31lGyj__PbW",
        "colab": {}
      },
      "source": [
        "test=pd.read_csv(testurl)"
      ],
      "execution_count": null,
      "outputs": []
    },
    {
      "cell_type": "code",
      "metadata": {
        "colab_type": "code",
        "id": "B2bBtfWT_Pbb",
        "colab": {}
      },
      "source": [
        "test2=test.drop(columns=['ID','min_score','max_score'])"
      ],
      "execution_count": null,
      "outputs": []
    },
    {
      "cell_type": "code",
      "metadata": {
        "colab_type": "code",
        "id": "20IX3EME_Pbg",
        "colab": {
          "base_uri": "https://localhost:8080/",
          "height": 200
        },
        "outputId": "72d49de6-ef56-4d8e-fc67-e26a95b6c193"
      },
      "source": [
        "test2.head()"
      ],
      "execution_count": null,
      "outputs": [
        {
          "output_type": "execute_result",
          "data": {
            "text/html": [
              "<div>\n",
              "<style scoped>\n",
              "    .dataframe tbody tr th:only-of-type {\n",
              "        vertical-align: middle;\n",
              "    }\n",
              "\n",
              "    .dataframe tbody tr th {\n",
              "        vertical-align: top;\n",
              "    }\n",
              "\n",
              "    .dataframe thead th {\n",
              "        text-align: right;\n",
              "    }\n",
              "</style>\n",
              "<table border=\"1\" class=\"dataframe\">\n",
              "  <thead>\n",
              "    <tr style=\"text-align: right;\">\n",
              "      <th></th>\n",
              "      <th>Essayset</th>\n",
              "      <th>score_1</th>\n",
              "      <th>score_2</th>\n",
              "      <th>score_3</th>\n",
              "      <th>score_4</th>\n",
              "      <th>score_5</th>\n",
              "      <th>clarity</th>\n",
              "      <th>coherent</th>\n",
              "      <th>EssayText</th>\n",
              "    </tr>\n",
              "  </thead>\n",
              "  <tbody>\n",
              "    <tr>\n",
              "      <th>0</th>\n",
              "      <td>1</td>\n",
              "      <td>1</td>\n",
              "      <td>1</td>\n",
              "      <td>1.0</td>\n",
              "      <td>1.0</td>\n",
              "      <td>1.0</td>\n",
              "      <td>average</td>\n",
              "      <td>worst</td>\n",
              "      <td>additional information would need replicate ex...</td>\n",
              "    </tr>\n",
              "    <tr>\n",
              "      <th>1</th>\n",
              "      <td>1</td>\n",
              "      <td>1</td>\n",
              "      <td>1</td>\n",
              "      <td>1.0</td>\n",
              "      <td>1.0</td>\n",
              "      <td>1.5</td>\n",
              "      <td>worst</td>\n",
              "      <td>above_average</td>\n",
              "      <td>need trial control set exact amount vinegar po...</td>\n",
              "    </tr>\n",
              "    <tr>\n",
              "      <th>2</th>\n",
              "      <td>1</td>\n",
              "      <td>0</td>\n",
              "      <td>0</td>\n",
              "      <td>0.0</td>\n",
              "      <td>0.0</td>\n",
              "      <td>1.0</td>\n",
              "      <td>worst</td>\n",
              "      <td>worst</td>\n",
              "      <td>student list rock better rock worse procedure</td>\n",
              "    </tr>\n",
              "    <tr>\n",
              "      <th>3</th>\n",
              "      <td>1</td>\n",
              "      <td>2</td>\n",
              "      <td>2</td>\n",
              "      <td>2.0</td>\n",
              "      <td>2.5</td>\n",
              "      <td>1.0</td>\n",
              "      <td>above_average</td>\n",
              "      <td>worst</td>\n",
              "      <td>student able make replicate would need tell us...</td>\n",
              "    </tr>\n",
              "    <tr>\n",
              "      <th>4</th>\n",
              "      <td>1</td>\n",
              "      <td>1</td>\n",
              "      <td>0</td>\n",
              "      <td>0.0</td>\n",
              "      <td>0.0</td>\n",
              "      <td>0.0</td>\n",
              "      <td>worst</td>\n",
              "      <td>worst</td>\n",
              "      <td>would need information would let different sam...</td>\n",
              "    </tr>\n",
              "  </tbody>\n",
              "</table>\n",
              "</div>"
            ],
            "text/plain": [
              "   Essayset  ...                                          EssayText\n",
              "0         1  ...  additional information would need replicate ex...\n",
              "1         1  ...  need trial control set exact amount vinegar po...\n",
              "2         1  ...      student list rock better rock worse procedure\n",
              "3         1  ...  student able make replicate would need tell us...\n",
              "4         1  ...  would need information would let different sam...\n",
              "\n",
              "[5 rows x 9 columns]"
            ]
          },
          "metadata": {
            "tags": []
          },
          "execution_count": 62
        }
      ]
    },
    {
      "cell_type": "code",
      "metadata": {
        "colab_type": "code",
        "id": "rDKjx5OD_Pbk",
        "colab": {}
      },
      "source": [
        "test2['EssayText']=test2['EssayText'].apply(clean_text)"
      ],
      "execution_count": null,
      "outputs": []
    },
    {
      "cell_type": "code",
      "metadata": {
        "colab_type": "code",
        "id": "XPGfMdJi_Pbp",
        "colab": {}
      },
      "source": [
        "sequences_test = tok.texts_to_sequences(test2.EssayText)\n",
        "sequences_matrix_test = sequence.pad_sequences(sequences_test,maxlen=max_len)\n"
      ],
      "execution_count": null,
      "outputs": []
    },
    {
      "cell_type": "code",
      "metadata": {
        "colab_type": "code",
        "id": "Ry6Q-icP_Pb9",
        "colab": {}
      },
      "source": [
        "test2_test=model.predict(sequences_matrix_test)"
      ],
      "execution_count": null,
      "outputs": []
    },
    {
      "cell_type": "code",
      "metadata": {
        "colab_type": "code",
        "id": "U2pPrmVS_PcA",
        "colab": {}
      },
      "source": [
        "testdf=pd.DataFrame(test2_test,columns=['out1','out2','out3','out4'])"
      ],
      "execution_count": null,
      "outputs": []
    },
    {
      "cell_type": "code",
      "metadata": {
        "colab_type": "code",
        "id": "urT_zLSw_PcE",
        "colab": {}
      },
      "source": [
        "test3=pd.concat([test2,testdf],axis=1)"
      ],
      "execution_count": null,
      "outputs": []
    },
    {
      "cell_type": "code",
      "metadata": {
        "colab_type": "code",
        "id": "p8FfKGjr_PcK",
        "colab": {
          "base_uri": "https://localhost:8080/",
          "height": 200
        },
        "outputId": "f2040835-65be-4e13-d781-51c6b7f7e596"
      },
      "source": [
        "test3.drop(columns=['EssayText'],inplace=True)\n",
        "test3.head()"
      ],
      "execution_count": null,
      "outputs": [
        {
          "output_type": "execute_result",
          "data": {
            "text/html": [
              "<div>\n",
              "<style scoped>\n",
              "    .dataframe tbody tr th:only-of-type {\n",
              "        vertical-align: middle;\n",
              "    }\n",
              "\n",
              "    .dataframe tbody tr th {\n",
              "        vertical-align: top;\n",
              "    }\n",
              "\n",
              "    .dataframe thead th {\n",
              "        text-align: right;\n",
              "    }\n",
              "</style>\n",
              "<table border=\"1\" class=\"dataframe\">\n",
              "  <thead>\n",
              "    <tr style=\"text-align: right;\">\n",
              "      <th></th>\n",
              "      <th>Essayset</th>\n",
              "      <th>score_1</th>\n",
              "      <th>score_2</th>\n",
              "      <th>score_3</th>\n",
              "      <th>score_4</th>\n",
              "      <th>score_5</th>\n",
              "      <th>clarity</th>\n",
              "      <th>coherent</th>\n",
              "      <th>out1</th>\n",
              "      <th>out2</th>\n",
              "      <th>out3</th>\n",
              "      <th>out4</th>\n",
              "    </tr>\n",
              "  </thead>\n",
              "  <tbody>\n",
              "    <tr>\n",
              "      <th>0</th>\n",
              "      <td>1</td>\n",
              "      <td>1</td>\n",
              "      <td>1</td>\n",
              "      <td>1.0</td>\n",
              "      <td>1.0</td>\n",
              "      <td>1.0</td>\n",
              "      <td>average</td>\n",
              "      <td>worst</td>\n",
              "      <td>0.111142</td>\n",
              "      <td>0.251085</td>\n",
              "      <td>0.432755</td>\n",
              "      <td>0.205018</td>\n",
              "    </tr>\n",
              "    <tr>\n",
              "      <th>1</th>\n",
              "      <td>1</td>\n",
              "      <td>1</td>\n",
              "      <td>1</td>\n",
              "      <td>1.0</td>\n",
              "      <td>1.0</td>\n",
              "      <td>1.5</td>\n",
              "      <td>worst</td>\n",
              "      <td>above_average</td>\n",
              "      <td>0.488291</td>\n",
              "      <td>0.272394</td>\n",
              "      <td>0.181598</td>\n",
              "      <td>0.057717</td>\n",
              "    </tr>\n",
              "    <tr>\n",
              "      <th>2</th>\n",
              "      <td>1</td>\n",
              "      <td>0</td>\n",
              "      <td>0</td>\n",
              "      <td>0.0</td>\n",
              "      <td>0.0</td>\n",
              "      <td>1.0</td>\n",
              "      <td>worst</td>\n",
              "      <td>worst</td>\n",
              "      <td>0.801796</td>\n",
              "      <td>0.153187</td>\n",
              "      <td>0.040624</td>\n",
              "      <td>0.004392</td>\n",
              "    </tr>\n",
              "    <tr>\n",
              "      <th>3</th>\n",
              "      <td>1</td>\n",
              "      <td>2</td>\n",
              "      <td>2</td>\n",
              "      <td>2.0</td>\n",
              "      <td>2.5</td>\n",
              "      <td>1.0</td>\n",
              "      <td>above_average</td>\n",
              "      <td>worst</td>\n",
              "      <td>0.123881</td>\n",
              "      <td>0.276969</td>\n",
              "      <td>0.431927</td>\n",
              "      <td>0.167223</td>\n",
              "    </tr>\n",
              "    <tr>\n",
              "      <th>4</th>\n",
              "      <td>1</td>\n",
              "      <td>1</td>\n",
              "      <td>0</td>\n",
              "      <td>0.0</td>\n",
              "      <td>0.0</td>\n",
              "      <td>0.0</td>\n",
              "      <td>worst</td>\n",
              "      <td>worst</td>\n",
              "      <td>0.724592</td>\n",
              "      <td>0.173911</td>\n",
              "      <td>0.084627</td>\n",
              "      <td>0.016870</td>\n",
              "    </tr>\n",
              "  </tbody>\n",
              "</table>\n",
              "</div>"
            ],
            "text/plain": [
              "   Essayset  score_1  score_2  score_3  ...      out1      out2      out3      out4\n",
              "0         1        1        1      1.0  ...  0.111142  0.251085  0.432755  0.205018\n",
              "1         1        1        1      1.0  ...  0.488291  0.272394  0.181598  0.057717\n",
              "2         1        0        0      0.0  ...  0.801796  0.153187  0.040624  0.004392\n",
              "3         1        2        2      2.0  ...  0.123881  0.276969  0.431927  0.167223\n",
              "4         1        1        0      0.0  ...  0.724592  0.173911  0.084627  0.016870\n",
              "\n",
              "[5 rows x 12 columns]"
            ]
          },
          "metadata": {
            "tags": []
          },
          "execution_count": 68
        }
      ]
    },
    {
      "cell_type": "code",
      "metadata": {
        "colab_type": "code",
        "id": "OrNWzCkbd4Xp",
        "colab": {}
      },
      "source": [
        ""
      ],
      "execution_count": null,
      "outputs": []
    },
    {
      "cell_type": "code",
      "metadata": {
        "colab_type": "code",
        "id": "lxw9EsfWd4hC",
        "colab": {}
      },
      "source": [
        ""
      ],
      "execution_count": null,
      "outputs": []
    },
    {
      "cell_type": "code",
      "metadata": {
        "colab_type": "code",
        "id": "cuNcHEmr_PcO",
        "colab": {
          "base_uri": "https://localhost:8080/",
          "height": 200
        },
        "outputId": "c2f890c4-6b4c-4d62-ae79-daa7e485b66f"
      },
      "source": [
        "\n",
        "test.head()\n"
      ],
      "execution_count": null,
      "outputs": [
        {
          "output_type": "execute_result",
          "data": {
            "text/html": [
              "<div>\n",
              "<style scoped>\n",
              "    .dataframe tbody tr th:only-of-type {\n",
              "        vertical-align: middle;\n",
              "    }\n",
              "\n",
              "    .dataframe tbody tr th {\n",
              "        vertical-align: top;\n",
              "    }\n",
              "\n",
              "    .dataframe thead th {\n",
              "        text-align: right;\n",
              "    }\n",
              "</style>\n",
              "<table border=\"1\" class=\"dataframe\">\n",
              "  <thead>\n",
              "    <tr style=\"text-align: right;\">\n",
              "      <th></th>\n",
              "      <th>ID</th>\n",
              "      <th>Essayset</th>\n",
              "      <th>min_score</th>\n",
              "      <th>max_score</th>\n",
              "      <th>score_1</th>\n",
              "      <th>score_2</th>\n",
              "      <th>score_3</th>\n",
              "      <th>score_4</th>\n",
              "      <th>score_5</th>\n",
              "      <th>clarity</th>\n",
              "      <th>coherent</th>\n",
              "      <th>EssayText</th>\n",
              "    </tr>\n",
              "  </thead>\n",
              "  <tbody>\n",
              "    <tr>\n",
              "      <th>0</th>\n",
              "      <td>1</td>\n",
              "      <td>1</td>\n",
              "      <td>0</td>\n",
              "      <td>3</td>\n",
              "      <td>1</td>\n",
              "      <td>1</td>\n",
              "      <td>1.0</td>\n",
              "      <td>1.0</td>\n",
              "      <td>1.0</td>\n",
              "      <td>average</td>\n",
              "      <td>worst</td>\n",
              "      <td>additional information would need replicate ex...</td>\n",
              "    </tr>\n",
              "    <tr>\n",
              "      <th>1</th>\n",
              "      <td>3</td>\n",
              "      <td>1</td>\n",
              "      <td>0</td>\n",
              "      <td>3</td>\n",
              "      <td>1</td>\n",
              "      <td>1</td>\n",
              "      <td>1.0</td>\n",
              "      <td>1.0</td>\n",
              "      <td>1.5</td>\n",
              "      <td>worst</td>\n",
              "      <td>above_average</td>\n",
              "      <td>need trial control set exact amount vinegar po...</td>\n",
              "    </tr>\n",
              "    <tr>\n",
              "      <th>2</th>\n",
              "      <td>4</td>\n",
              "      <td>1</td>\n",
              "      <td>0</td>\n",
              "      <td>3</td>\n",
              "      <td>0</td>\n",
              "      <td>0</td>\n",
              "      <td>0.0</td>\n",
              "      <td>0.0</td>\n",
              "      <td>1.0</td>\n",
              "      <td>worst</td>\n",
              "      <td>worst</td>\n",
              "      <td>student list rock better rock worse procedure</td>\n",
              "    </tr>\n",
              "    <tr>\n",
              "      <th>3</th>\n",
              "      <td>5</td>\n",
              "      <td>1</td>\n",
              "      <td>0</td>\n",
              "      <td>3</td>\n",
              "      <td>2</td>\n",
              "      <td>2</td>\n",
              "      <td>2.0</td>\n",
              "      <td>2.5</td>\n",
              "      <td>1.0</td>\n",
              "      <td>above_average</td>\n",
              "      <td>worst</td>\n",
              "      <td>student able make replicate would need tell us...</td>\n",
              "    </tr>\n",
              "    <tr>\n",
              "      <th>4</th>\n",
              "      <td>6</td>\n",
              "      <td>1</td>\n",
              "      <td>0</td>\n",
              "      <td>3</td>\n",
              "      <td>1</td>\n",
              "      <td>0</td>\n",
              "      <td>0.0</td>\n",
              "      <td>0.0</td>\n",
              "      <td>0.0</td>\n",
              "      <td>worst</td>\n",
              "      <td>worst</td>\n",
              "      <td>would need information would let different sam...</td>\n",
              "    </tr>\n",
              "  </tbody>\n",
              "</table>\n",
              "</div>"
            ],
            "text/plain": [
              "   ID  ...                                          EssayText\n",
              "0   1  ...  additional information would need replicate ex...\n",
              "1   3  ...  need trial control set exact amount vinegar po...\n",
              "2   4  ...      student list rock better rock worse procedure\n",
              "3   5  ...  student able make replicate would need tell us...\n",
              "4   6  ...  would need information would let different sam...\n",
              "\n",
              "[5 rows x 12 columns]"
            ]
          },
          "metadata": {
            "tags": []
          },
          "execution_count": 69
        }
      ]
    },
    {
      "cell_type": "code",
      "metadata": {
        "colab_type": "code",
        "id": "zgJhd7jE_PcR",
        "colab": {}
      },
      "source": [
        "test3.loc[:,['Essayset','clarity','coherent']]=ce1.transform(test3.loc[:,['Essayset','clarity','coherent']])"
      ],
      "execution_count": null,
      "outputs": []
    },
    {
      "cell_type": "code",
      "metadata": {
        "colab_type": "code",
        "id": "LimPIB3x_PcW",
        "colab": {
          "base_uri": "https://localhost:8080/",
          "height": 200
        },
        "outputId": "19e04341-d6d5-443e-ba35-e95285fed52f"
      },
      "source": [
        "test3.drop(columns=['score_1','score_2','score_3','score_4','score_5'],inplace=True)\n",
        "\n",
        "test3.head()\n"
      ],
      "execution_count": null,
      "outputs": [
        {
          "output_type": "execute_result",
          "data": {
            "text/html": [
              "<div>\n",
              "<style scoped>\n",
              "    .dataframe tbody tr th:only-of-type {\n",
              "        vertical-align: middle;\n",
              "    }\n",
              "\n",
              "    .dataframe tbody tr th {\n",
              "        vertical-align: top;\n",
              "    }\n",
              "\n",
              "    .dataframe thead th {\n",
              "        text-align: right;\n",
              "    }\n",
              "</style>\n",
              "<table border=\"1\" class=\"dataframe\">\n",
              "  <thead>\n",
              "    <tr style=\"text-align: right;\">\n",
              "      <th></th>\n",
              "      <th>Essayset</th>\n",
              "      <th>clarity</th>\n",
              "      <th>coherent</th>\n",
              "      <th>out1</th>\n",
              "      <th>out2</th>\n",
              "      <th>out3</th>\n",
              "      <th>out4</th>\n",
              "    </tr>\n",
              "  </thead>\n",
              "  <tbody>\n",
              "    <tr>\n",
              "      <th>0</th>\n",
              "      <td>1.480649</td>\n",
              "      <td>0.496662</td>\n",
              "      <td>0.482423</td>\n",
              "      <td>0.111142</td>\n",
              "      <td>0.251085</td>\n",
              "      <td>0.432755</td>\n",
              "      <td>0.205018</td>\n",
              "    </tr>\n",
              "    <tr>\n",
              "      <th>1</th>\n",
              "      <td>1.480649</td>\n",
              "      <td>0.486640</td>\n",
              "      <td>1.944411</td>\n",
              "      <td>0.488291</td>\n",
              "      <td>0.272394</td>\n",
              "      <td>0.181598</td>\n",
              "      <td>0.057717</td>\n",
              "    </tr>\n",
              "    <tr>\n",
              "      <th>2</th>\n",
              "      <td>1.480649</td>\n",
              "      <td>0.486640</td>\n",
              "      <td>0.482423</td>\n",
              "      <td>0.801796</td>\n",
              "      <td>0.153187</td>\n",
              "      <td>0.040624</td>\n",
              "      <td>0.004392</td>\n",
              "    </tr>\n",
              "    <tr>\n",
              "      <th>3</th>\n",
              "      <td>1.480649</td>\n",
              "      <td>1.943451</td>\n",
              "      <td>0.482423</td>\n",
              "      <td>0.123881</td>\n",
              "      <td>0.276969</td>\n",
              "      <td>0.431927</td>\n",
              "      <td>0.167223</td>\n",
              "    </tr>\n",
              "    <tr>\n",
              "      <th>4</th>\n",
              "      <td>1.480649</td>\n",
              "      <td>0.486640</td>\n",
              "      <td>0.482423</td>\n",
              "      <td>0.724592</td>\n",
              "      <td>0.173911</td>\n",
              "      <td>0.084627</td>\n",
              "      <td>0.016870</td>\n",
              "    </tr>\n",
              "  </tbody>\n",
              "</table>\n",
              "</div>"
            ],
            "text/plain": [
              "   Essayset   clarity  coherent      out1      out2      out3      out4\n",
              "0  1.480649  0.496662  0.482423  0.111142  0.251085  0.432755  0.205018\n",
              "1  1.480649  0.486640  1.944411  0.488291  0.272394  0.181598  0.057717\n",
              "2  1.480649  0.486640  0.482423  0.801796  0.153187  0.040624  0.004392\n",
              "3  1.480649  1.943451  0.482423  0.123881  0.276969  0.431927  0.167223\n",
              "4  1.480649  0.486640  0.482423  0.724592  0.173911  0.084627  0.016870"
            ]
          },
          "metadata": {
            "tags": []
          },
          "execution_count": 71
        }
      ]
    },
    {
      "cell_type": "code",
      "metadata": {
        "colab_type": "code",
        "id": "5tqP70px_Pca",
        "colab": {}
      },
      "source": [
        "final_out=xgb.predict(test3)"
      ],
      "execution_count": null,
      "outputs": []
    },
    {
      "cell_type": "code",
      "metadata": {
        "colab_type": "code",
        "id": "zBqIABET_Pce",
        "colab": {}
      },
      "source": [
        "out=pd.DataFrame()\n"
      ],
      "execution_count": null,
      "outputs": []
    },
    {
      "cell_type": "code",
      "metadata": {
        "colab_type": "code",
        "id": "HF3qeAEg_Pch",
        "colab": {}
      },
      "source": [
        "out['id']=test.ID\n",
        "out['essay_set']=test.Essayset\n"
      ],
      "execution_count": null,
      "outputs": []
    },
    {
      "cell_type": "code",
      "metadata": {
        "colab_type": "code",
        "id": "XvncGkDr_Pcj",
        "colab": {
          "base_uri": "https://localhost:8080/",
          "height": 200
        },
        "outputId": "8f401bff-881d-42bb-9bf1-0795f7dba1fd"
      },
      "source": [
        "out['essay_score']=final_out\n",
        "out.tail()"
      ],
      "execution_count": null,
      "outputs": [
        {
          "output_type": "execute_result",
          "data": {
            "text/html": [
              "<div>\n",
              "<style scoped>\n",
              "    .dataframe tbody tr th:only-of-type {\n",
              "        vertical-align: middle;\n",
              "    }\n",
              "\n",
              "    .dataframe tbody tr th {\n",
              "        vertical-align: top;\n",
              "    }\n",
              "\n",
              "    .dataframe thead th {\n",
              "        text-align: right;\n",
              "    }\n",
              "</style>\n",
              "<table border=\"1\" class=\"dataframe\">\n",
              "  <thead>\n",
              "    <tr style=\"text-align: right;\">\n",
              "      <th></th>\n",
              "      <th>id</th>\n",
              "      <th>essay_set</th>\n",
              "      <th>essay_score</th>\n",
              "    </tr>\n",
              "  </thead>\n",
              "  <tbody>\n",
              "    <tr>\n",
              "      <th>4</th>\n",
              "      <td>6</td>\n",
              "      <td>1</td>\n",
              "      <td>0.0</td>\n",
              "    </tr>\n",
              "    <tr>\n",
              "      <th>5</th>\n",
              "      <td>7</td>\n",
              "      <td>1</td>\n",
              "      <td>0.0</td>\n",
              "    </tr>\n",
              "    <tr>\n",
              "      <th>6</th>\n",
              "      <td>8</td>\n",
              "      <td>1</td>\n",
              "      <td>3.0</td>\n",
              "    </tr>\n",
              "    <tr>\n",
              "      <th>7</th>\n",
              "      <td>9</td>\n",
              "      <td>1</td>\n",
              "      <td>3.0</td>\n",
              "    </tr>\n",
              "    <tr>\n",
              "      <th>8</th>\n",
              "      <td>10</td>\n",
              "      <td>1</td>\n",
              "      <td>2.0</td>\n",
              "    </tr>\n",
              "  </tbody>\n",
              "</table>\n",
              "</div>"
            ],
            "text/plain": [
              "   id  essay_set  essay_score\n",
              "4   6          1          0.0\n",
              "5   7          1          0.0\n",
              "6   8          1          3.0\n",
              "7   9          1          3.0\n",
              "8  10          1          2.0"
            ]
          },
          "metadata": {
            "tags": []
          },
          "execution_count": 75
        }
      ]
    },
    {
      "cell_type": "code",
      "metadata": {
        "colab_type": "code",
        "id": "18rc_R3__Pco",
        "colab": {}
      },
      "source": [
        "out.to_csv('SCORES.csv',index=None)\n",
        "nn=pd.read_csv('SCORES.csv')"
      ],
      "execution_count": null,
      "outputs": []
    },
    {
      "cell_type": "code",
      "metadata": {
        "colab_type": "code",
        "id": "lEOW0rmUGmHJ",
        "colab": {
          "base_uri": "https://localhost:8080/",
          "height": 321
        },
        "outputId": "1dee1ea4-dcc3-4ccc-cb14-803af0ca7b6e"
      },
      "source": [
        "nn.head(10)"
      ],
      "execution_count": null,
      "outputs": [
        {
          "output_type": "execute_result",
          "data": {
            "text/html": [
              "<div>\n",
              "<style scoped>\n",
              "    .dataframe tbody tr th:only-of-type {\n",
              "        vertical-align: middle;\n",
              "    }\n",
              "\n",
              "    .dataframe tbody tr th {\n",
              "        vertical-align: top;\n",
              "    }\n",
              "\n",
              "    .dataframe thead th {\n",
              "        text-align: right;\n",
              "    }\n",
              "</style>\n",
              "<table border=\"1\" class=\"dataframe\">\n",
              "  <thead>\n",
              "    <tr style=\"text-align: right;\">\n",
              "      <th></th>\n",
              "      <th>id</th>\n",
              "      <th>essay_set</th>\n",
              "      <th>essay_score</th>\n",
              "    </tr>\n",
              "  </thead>\n",
              "  <tbody>\n",
              "    <tr>\n",
              "      <th>0</th>\n",
              "      <td>1</td>\n",
              "      <td>1</td>\n",
              "      <td>1.0</td>\n",
              "    </tr>\n",
              "    <tr>\n",
              "      <th>1</th>\n",
              "      <td>3</td>\n",
              "      <td>1</td>\n",
              "      <td>1.0</td>\n",
              "    </tr>\n",
              "    <tr>\n",
              "      <th>2</th>\n",
              "      <td>4</td>\n",
              "      <td>1</td>\n",
              "      <td>0.0</td>\n",
              "    </tr>\n",
              "    <tr>\n",
              "      <th>3</th>\n",
              "      <td>5</td>\n",
              "      <td>1</td>\n",
              "      <td>2.0</td>\n",
              "    </tr>\n",
              "    <tr>\n",
              "      <th>4</th>\n",
              "      <td>6</td>\n",
              "      <td>1</td>\n",
              "      <td>0.0</td>\n",
              "    </tr>\n",
              "    <tr>\n",
              "      <th>5</th>\n",
              "      <td>7</td>\n",
              "      <td>1</td>\n",
              "      <td>0.0</td>\n",
              "    </tr>\n",
              "    <tr>\n",
              "      <th>6</th>\n",
              "      <td>8</td>\n",
              "      <td>1</td>\n",
              "      <td>3.0</td>\n",
              "    </tr>\n",
              "    <tr>\n",
              "      <th>7</th>\n",
              "      <td>9</td>\n",
              "      <td>1</td>\n",
              "      <td>3.0</td>\n",
              "    </tr>\n",
              "    <tr>\n",
              "      <th>8</th>\n",
              "      <td>10</td>\n",
              "      <td>1</td>\n",
              "      <td>2.0</td>\n",
              "    </tr>\n",
              "  </tbody>\n",
              "</table>\n",
              "</div>"
            ],
            "text/plain": [
              "   id  essay_set  essay_score\n",
              "0   1          1          1.0\n",
              "1   3          1          1.0\n",
              "2   4          1          0.0\n",
              "3   5          1          2.0\n",
              "4   6          1          0.0\n",
              "5   7          1          0.0\n",
              "6   8          1          3.0\n",
              "7   9          1          3.0\n",
              "8  10          1          2.0"
            ]
          },
          "metadata": {
            "tags": []
          },
          "execution_count": 77
        }
      ]
    },
    {
      "cell_type": "code",
      "metadata": {
        "colab_type": "code",
        "id": "M1EIOPNHGoA3",
        "colab": {}
      },
      "source": [
        "#absolute_path = os.path.abspath(os.path.dirname('output.csv'))\n"
      ],
      "execution_count": null,
      "outputs": []
    },
    {
      "cell_type": "code",
      "metadata": {
        "colab_type": "code",
        "id": "8oFY2afxG9PB",
        "colab": {}
      },
      "source": [
        ""
      ],
      "execution_count": null,
      "outputs": []
    },
    {
      "cell_type": "code",
      "metadata": {
        "colab_type": "code",
        "id": "8JR5ktoAGtXo",
        "colab": {}
      },
      "source": [
        ""
      ],
      "execution_count": null,
      "outputs": []
    },
    {
      "cell_type": "code",
      "metadata": {
        "colab_type": "code",
        "id": "6AIVfuMG_Pcr",
        "colab": {
          "base_uri": "https://localhost:8080/",
          "height": 330
        },
        "outputId": "d2269e2c-4dcc-46dd-a789-30c0e7f606a9"
      },
      "source": [
        "out.groupby('essay_set').essay_score.value_counts().plot(kind='bar',figsize=(50,10),fontsize=30)\n",
        "from google.colab import files\n",
        "files.download(\"SCORES.csv\")"
      ],
      "execution_count": null,
      "outputs": [
        {
          "output_type": "display_data",
          "data": {
            "image/png": "[encoded data removed]",
            "text/plain": [
              "<Figure size 3600x720 with 1 Axes>"
            ]
          },
          "metadata": {
            "tags": [],
            "needs_background": "light"
          }
        }
      ]
    },
    {
      "cell_type": "code",
      "metadata": {
        "colab_type": "code",
        "id": "w1RPUGZT_Pcu",
        "colab": {}
      },
      "source": [
        ""
      ],
      "execution_count": null,
      "outputs": []
    }
  ]
}